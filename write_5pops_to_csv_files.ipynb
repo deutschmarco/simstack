{
 "cells": [
  {
   "cell_type": "code",
   "execution_count": 1,
   "metadata": {
    "collapsed": false
   },
   "outputs": [
    {
     "name": "stderr",
     "output_type": "stream",
     "text": [
      "WARNING: AstropyDeprecationWarning: Config parameter 'default_cosmology' in section [astropy.cosmology.core] is deprecated. Use science state astropy.cosmology.core.default_cosmology instead. [astropy.utils.state]\n",
      "WARNING:astropy:AstropyDeprecationWarning: Config parameter 'default_cosmology' in section [astropy.cosmology.core] is deprecated. Use science state astropy.cosmology.core.default_cosmology instead.\n"
     ]
    }
   ],
   "source": [
    "import pdb\n",
    "import numpy as np\n",
    "from astropy.wcs import WCS\n",
    "from shift import shift_twod\n",
    "from VieroLibrary.dist_idl import dist_idl\n",
    "from VieroLibrary import readcol\n",
    "from lmfit import Parameters, minimize, fit_report\n",
    "from smoothmap import smoothmap\n",
    "from astropy.io import fits\n",
    "from fluctfit import simmap_from_cat_five_pops\n",
    "#from fluctfit import simmap_from_cat_general\n",
    "from gauss_kern import gauss_kern\n",
    "#import pylab as pl\n",
    "import matplotlib.pyplot as plt\n",
    "import math\n",
    "import pylab\n",
    "from grab_random import grab_random\n",
    "%matplotlib inline "
   ]
  },
  {
   "cell_type": "code",
   "execution_count": 2,
   "metadata": {
    "collapsed": true
   },
   "outputs": [],
   "source": [
    "def find_nearest(array,value):\n",
    "    idx = (np.abs(array-value)).argmin()\n",
    "    return array[idx]"
   ]
  },
  {
   "cell_type": "code",
   "execution_count": 3,
   "metadata": {
    "collapsed": true
   },
   "outputs": [],
   "source": [
    "path_catalog = '/data/maps_cats_models/catalogs/UVISTA/'\n",
    "file_catalog = 'UVISTA_final_v4.1_zCOSMOS_zEAZY_RFcolors_IDs_mass_AGN_SFRs.csv'"
   ]
  },
  {
   "cell_type": "code",
   "execution_count": 4,
   "metadata": {
    "collapsed": true
   },
   "outputs": [],
   "source": [
    "id0,ra0,dec0,mips24_0,z_peak0,u_v0,v_j0,reddening_AGN0,a_hat_AGN0,F_ratio0,l_uv0,l_ir0,sfr_uv,lmass0 = readcol.readcol(path_catalog+file_catalog,fsep=',',twod=False, skipline=1)\n",
    "uvj0 = u_v0 ** 2 + v_j0 ** 2"
   ]
  },
  {
   "cell_type": "code",
   "execution_count": 5,
   "metadata": {
    "collapsed": false
   },
   "outputs": [
    {
     "name": "stdout",
     "output_type": "stream",
     "text": [
      "done sorting uvj and agn\n"
     ]
    }
   ],
   "source": [
    "nsrc = len(ra0)\n",
    "sfg = np.ones(nsrc)\n",
    "effc = np.ones(nsrc)\n",
    "\n",
    "Fcut = 25\n",
    "indsb = np.where((mips24_0 > 300.) & (F_ratio0 < Fcut))\n",
    "sfg[indsb] = 4\n",
    "\n",
    "z0 = 9.3 \n",
    "slope = (12.0-9.3)/(1.25)\n",
    "indlocal = np.where((sfg != 4) & (lmass0 > z_peak0 * slope + z0) & (mips24_0 > 200.))\n",
    "sfg[indlocal] = 3\n",
    "\n",
    "indagn = np.where(F_ratio0 >= Fcut)\n",
    "sfg[indagn] = 2\n",
    "\n",
    "for i in range(nsrc):\n",
    "\tif (sfg[i] < 2) and (u_v0[i] > 1.3) and (v_j0[i] < 1.5):\n",
    "\t\tif (z_peak0[i] < 1):\n",
    "\t\t\tif (u_v0[i] > (v_j0[i]*0.88+0.69) ): sfg[i]=0\n",
    "\t\tif (z_peak0[i] > 1):\n",
    "\t\t\tif (u_v0[i] > (v_j0[i]*0.88+0.59) ): sfg[i]=0\n",
    "\n",
    "print 'done sorting uvj and agn'"
   ]
  },
  {
   "cell_type": "code",
   "execution_count": 6,
   "metadata": {
    "collapsed": false
   },
   "outputs": [],
   "source": [
    "indsf = np.where(sfg == 1)\n",
    "indqt = np.where(sfg == 0)\n",
    "nsfg = len(indsf[0])\n",
    "nqt = len(indqt[0]) \n",
    "nagn = len(indagn[0]) \n",
    "nloc = len(indlocal[0])\n",
    "nsb = len(indsb[0])\n",
    "\n",
    "id_sf = id0[indsf]\n",
    "ra_sf = ra0[indsf]\n",
    "dec_sf = dec0[indsf]\n",
    "z_peak_sf = z_peak0[indsf]\n",
    "u_v_sf = u_v0[indsf]\n",
    "v_j_sf = v_j0[indsf]\n",
    "uvj_sf = uvj0[indsf]\n",
    "lmass_sf = lmass0[indsf]\n",
    "mips24_sf = mips24_0[indsf]\n",
    "\n",
    "id_qt = id0[indqt]\n",
    "ra_qt = ra0[indqt]\n",
    "dec_qt = dec0[indqt]\n",
    "z_peak_qt = z_peak0[indqt]\n",
    "u_v_qt = u_v0[indqt]\n",
    "v_j_qt = v_j0[indqt]\n",
    "uvj_qt = uvj0[indqt]\n",
    "lmass_qt = lmass0[indqt]\n",
    "mips24_qt = mips24_0[indqt]\n",
    "\n",
    "id_agn = id0[indagn]\n",
    "ra_agn = ra0[indagn]\n",
    "dec_agn = dec0[indagn]\n",
    "z_peak_agn = z_peak0[indagn]\n",
    "u_v_agn = u_v0[indagn]\n",
    "v_j_agn = v_j0[indagn]\n",
    "uvj_agn = uvj0[indagn]\n",
    "lmass_agn = lmass0[indagn]\n",
    "f_ratio = F_ratio0[indagn]\n",
    "a_hat_agn = a_hat_AGN0[indagn]\n",
    "mips24_agn = mips24_0[indagn]\n",
    "\n",
    "id_loc = id0[indlocal]\n",
    "ra_loc = ra0[indlocal]\n",
    "dec_loc = dec0[indlocal]\n",
    "z_peak_loc = z_peak0[indlocal]\n",
    "u_v_loc = u_v0[indlocal]\n",
    "v_j_loc = v_j0[indlocal]\n",
    "uvj_loc = uvj0[indlocal]\n",
    "lmass_loc = lmass0[indlocal]\n",
    "mips24_loc = mips24_0[indlocal]\n",
    "\n",
    "id_sb = id0[indsb]\n",
    "ra_sb = ra0[indsb]\n",
    "dec_sb = dec0[indsb]\n",
    "z_peak_sb = z_peak0[indsb]\n",
    "u_v_sb = u_v0[indsb]\n",
    "v_j_sb = v_j0[indsb]\n",
    "uvj_sb = uvj0[indsb]\n",
    "lmass_sb = lmass0[indsb]\n",
    "mips24_sb = mips24_0[indsb]"
   ]
  },
  {
   "cell_type": "code",
   "execution_count": 7,
   "metadata": {
    "collapsed": false
   },
   "outputs": [],
   "source": [
    "z_lo = np.array([0.0,0.5,1.0,1.5,2.0,2.5,3.0,3.5])\n",
    "z_hi = np.array([0.5,1.0,1.5,2.0,2.5,3.0,3.5,4.0])\n",
    "z_mid = (z_lo+z_hi)/2.0\n",
    "nz = len(z_mid)\n",
    "m_lo = np.array([8.5,9.0, 9.5,10.0,10.5,11.0])\n",
    "m_hi = np.array([9.0,9.5,10.0,10.5,11.0,13.0])\n",
    "m_lo = np.array([8.5, 9.5,10.0,10.5,11.0])\n",
    "m_hi = np.array([9.5,10.0,10.5,11.0,13.0])\n",
    "m_mid = (m_lo+m_hi)/2.0\n",
    "nm = len(m_mid)"
   ]
  },
  {
   "cell_type": "code",
   "execution_count": 8,
   "metadata": {
    "collapsed": false
   },
   "outputs": [
    {
     "name": "stdout",
     "output_type": "stream",
     "text": [
      "no sources in list_5pop_z-0.0-0.5_linear-m-8.5-9.5_loc.csv\n",
      "no sources in list_5pop_z-0.5-1.0_linear-m-8.5-9.5_loc.csv\n",
      "no sources in list_5pop_z-0.5-1.0_linear-m-9.5-10.0_loc.csv\n",
      "no sources in list_5pop_z-1.0-1.5_linear-m-8.5-9.5_sb.csv\n",
      "no sources in list_5pop_z-1.0-1.5_linear-m-8.5-9.5_loc.csv\n",
      "no sources in list_5pop_z-1.0-1.5_linear-m-9.5-10.0_loc.csv\n",
      "no sources in list_5pop_z-1.0-1.5_linear-m-10.0-10.5_loc.csv\n",
      "no sources in list_5pop_z-1.0-1.5_linear-m-10.5-11.0_loc.csv\n",
      "no sources in list_5pop_z-1.0-1.5_linear-m-11.0-13.0_loc.csv\n",
      "no sources in list_5pop_z-1.5-2.0_linear-m-8.5-9.5_sb.csv\n",
      "no sources in list_5pop_z-1.5-2.0_linear-m-8.5-9.5_loc.csv\n",
      "no sources in list_5pop_z-1.5-2.0_linear-m-9.5-10.0_sb.csv\n",
      "no sources in list_5pop_z-1.5-2.0_linear-m-9.5-10.0_loc.csv\n",
      "no sources in list_5pop_z-1.5-2.0_linear-m-10.0-10.5_loc.csv\n",
      "no sources in list_5pop_z-1.5-2.0_linear-m-10.5-11.0_loc.csv\n",
      "no sources in list_5pop_z-1.5-2.0_linear-m-11.0-13.0_loc.csv\n",
      "no sources in list_5pop_z-2.0-2.5_linear-m-8.5-9.5_loc.csv\n",
      "no sources in list_5pop_z-2.0-2.5_linear-m-9.5-10.0_sb.csv\n",
      "no sources in list_5pop_z-2.0-2.5_linear-m-9.5-10.0_loc.csv\n",
      "no sources in list_5pop_z-2.0-2.5_linear-m-10.0-10.5_loc.csv\n",
      "no sources in list_5pop_z-2.0-2.5_linear-m-10.5-11.0_loc.csv\n",
      "no sources in list_5pop_z-2.0-2.5_linear-m-11.0-13.0_loc.csv\n",
      "no sources in list_5pop_z-2.5-3.0_linear-m-8.5-9.5_sb.csv\n",
      "no sources in list_5pop_z-2.5-3.0_linear-m-8.5-9.5_loc.csv\n",
      "no sources in list_5pop_z-2.5-3.0_linear-m-9.5-10.0_sb.csv\n",
      "no sources in list_5pop_z-2.5-3.0_linear-m-9.5-10.0_loc.csv\n",
      "no sources in list_5pop_z-2.5-3.0_linear-m-10.0-10.5_sb.csv\n",
      "no sources in list_5pop_z-2.5-3.0_linear-m-10.0-10.5_loc.csv\n",
      "no sources in list_5pop_z-2.5-3.0_linear-m-10.5-11.0_loc.csv\n",
      "no sources in list_5pop_z-2.5-3.0_linear-m-11.0-13.0_loc.csv\n",
      "no sources in list_5pop_z-3.0-3.5_linear-m-8.5-9.5_qt.csv\n",
      "no sources in list_5pop_z-3.0-3.5_linear-m-8.5-9.5_sb.csv\n",
      "no sources in list_5pop_z-3.0-3.5_linear-m-8.5-9.5_loc.csv\n",
      "no sources in list_5pop_z-3.0-3.5_linear-m-9.5-10.0_sb.csv\n",
      "no sources in list_5pop_z-3.0-3.5_linear-m-9.5-10.0_loc.csv\n",
      "no sources in list_5pop_z-3.0-3.5_linear-m-10.0-10.5_sb.csv\n",
      "no sources in list_5pop_z-3.0-3.5_linear-m-10.0-10.5_loc.csv\n",
      "no sources in list_5pop_z-3.0-3.5_linear-m-10.5-11.0_loc.csv\n",
      "no sources in list_5pop_z-3.0-3.5_linear-m-11.0-13.0_loc.csv\n",
      "no sources in list_5pop_z-3.5-4.0_linear-m-8.5-9.5_sf.csv\n",
      "no sources in list_5pop_z-3.5-4.0_linear-m-8.5-9.5_qt.csv\n",
      "no sources in list_5pop_z-3.5-4.0_linear-m-8.5-9.5_agn.csv\n",
      "no sources in list_5pop_z-3.5-4.0_linear-m-8.5-9.5_sb.csv\n",
      "no sources in list_5pop_z-3.5-4.0_linear-m-8.5-9.5_loc.csv\n",
      "no sources in list_5pop_z-3.5-4.0_linear-m-9.5-10.0_qt.csv\n",
      "no sources in list_5pop_z-3.5-4.0_linear-m-9.5-10.0_sb.csv\n",
      "no sources in list_5pop_z-3.5-4.0_linear-m-9.5-10.0_loc.csv\n",
      "no sources in list_5pop_z-3.5-4.0_linear-m-10.0-10.5_sb.csv\n",
      "no sources in list_5pop_z-3.5-4.0_linear-m-10.0-10.5_loc.csv\n",
      "no sources in list_5pop_z-3.5-4.0_linear-m-10.5-11.0_sb.csv\n",
      "no sources in list_5pop_z-3.5-4.0_linear-m-10.5-11.0_loc.csv\n",
      "no sources in list_5pop_z-3.5-4.0_linear-m-11.0-13.0_loc.csv\n"
     ]
    }
   ],
   "source": [
    "path_5_pop = '/data/maps_cats_models/catalogs/multi_pop_lists/5pops/'\n",
    "linear_mass = 1\n",
    "if linear_mass == 1:\n",
    "    linear_mass_suf = '_linear-'\n",
    "else:\n",
    "    linear_mass_suf = '_'\n",
    "for iz in range(nz):\n",
    "    for jm in range(nm):\n",
    "        m_suf = \"\"+\"-\".join([str(m_lo[jm]),str(m_hi[jm])])\n",
    "        z_suf = \"\"+\"-\".join([str(z_lo[iz]),str(z_hi[iz])])\n",
    "        \n",
    "        #Go through each population and see if there are objects in this m-z bin.  \n",
    "        #If yes, write to file.  If no, write empty file?\n",
    "        ##1: SF\n",
    "        file_list ='list_5pop_z-'+z_suf+linear_mass_suf+'m-'+m_suf+'_sf.csv' \n",
    "        if linear_mass == 1:\n",
    "            ind_mz_sf = np.where((z_peak_sf >= z_lo[iz]) & (z_peak_sf < z_hi[iz]) & (10**lmass_sf >= 10**m_lo[jm]) & (10**lmass_sf < 10**m_hi[jm]) )\n",
    "        else:\n",
    "            ind_mz_sf = np.where((z_peak_sf >= z_lo[iz]) & (z_peak_sf < z_hi[iz]) & (lmass_sf >= m_lo[jm]) & (lmass_sf < m_hi[jm]) )\n",
    "        ntgal = np.size(ind_mz_sf)\n",
    "        f = open(path_5_pop+file_list, 'w')\n",
    "        if ntgal > 0:\n",
    "            for kp1 in np.nditer(ind_mz_sf): \n",
    "                f.write(\",\".join([str(ra_sf[kp1]),str(dec_sf[kp1])]) + '\\n')\n",
    "        else:\n",
    "            print 'no sources in '+file_list\n",
    "        f.close()\n",
    "        \n",
    "        ##2: QT\n",
    "        file_list ='list_5pop_z-'+z_suf+linear_mass_suf+'m-'+m_suf+'_qt.csv' \n",
    "        if linear_mass == 1:\n",
    "            ind_mz_qt = np.where((z_peak_qt >= z_lo[iz]) & (z_peak_qt < z_hi[iz]) & (10**lmass_qt >= 10**m_lo[jm]) & (10**lmass_qt < 10**m_hi[jm]) )\n",
    "        else:\n",
    "            ind_mz_qt = np.where((z_peak_qt >= z_lo[iz]) & (z_peak_qt < z_hi[iz]) & (lmass_qt >= m_lo[jm]) & (lmass_qt < m_hi[jm]) )\n",
    "        ntgal = np.size(ind_mz_qt)\n",
    "        f = open(path_5_pop+file_list, 'w')\n",
    "        if ntgal > 0:\n",
    "            for kp2 in np.nditer(ind_mz_qt):\n",
    "                f.write(\",\".join([str(ra_qt[kp2]),str(dec_qt[kp2])]) + '\\n')\n",
    "        else:\n",
    "            print 'no sources in '+file_list\n",
    "        f.close()\n",
    "        \n",
    "        ##3: AGN\n",
    "        file_list ='list_5pop_z-'+z_suf+linear_mass_suf+'m-'+m_suf+'_agn.csv' \n",
    "        if linear_mass == 1:\n",
    "            ind_mz_agn = np.where((z_peak_agn >= z_lo[iz]) & (z_peak_agn < z_hi[iz]) & (10**lmass_agn >= 10**m_lo[jm]) & (10**lmass_agn < 10**m_hi[jm]) )\n",
    "        else:\n",
    "            ind_mz_agn = np.where((z_peak_agn >= z_lo[iz]) & (z_peak_agn < z_hi[iz]) & (lmass_agn >= m_lo[jm]) & (lmass_agn < m_hi[jm]) )\n",
    "        ntgal = np.size(ind_mz_agn)\n",
    "        f = open(path_5_pop+file_list, 'w')\n",
    "        if ntgal > 0:\n",
    "            for kp3 in np.nditer(ind_mz_agn):\n",
    "                f.write(\",\".join([str(ra_agn[kp3]),str(dec_agn[kp3])]) + '\\n')\n",
    "        else:\n",
    "            print 'no sources in '+file_list\n",
    "        f.close()\n",
    "        \n",
    "        ##4: SB\n",
    "        file_list ='list_5pop_z-'+z_suf+linear_mass_suf+'m-'+m_suf+'_sb.csv' \n",
    "        if linear_mass == 1:\n",
    "            ind_mz_sb = np.where((z_peak_sb >= z_lo[iz]) & (z_peak_sb < z_hi[iz]) & (10**lmass_sb >= 10**m_lo[jm]) & (10**lmass_sb < 10**m_hi[jm]) )\n",
    "        else:\n",
    "            ind_mz_sb = np.where((z_peak_sb >= z_lo[iz]) & (z_peak_sb < z_hi[iz]) & (lmass_sb >= m_lo[jm]) & (lmass_sb < m_hi[jm]) )\n",
    "        ntgal = np.size(ind_mz_sb)\n",
    "        f = open(path_5_pop+file_list, 'w')\n",
    "        if ntgal > 0:\n",
    "            for kp4 in np.nditer(ind_mz_sb):\n",
    "                f.write(\",\".join([str(ra_sb[kp4]),str(dec_sb[kp4])]) + '\\n')\n",
    "        else:\n",
    "            print 'no sources in '+file_list\n",
    "        f.close()\n",
    "        \n",
    "        ##5: LOC\n",
    "        file_list ='list_5pop_z-'+z_suf+linear_mass_suf+'m-'+m_suf+'_loc.csv' \n",
    "        if linear_mass == 1:\n",
    "            ind_mz_loc = np.where((z_peak_loc >= z_lo[iz]) & (z_peak_loc < z_hi[iz]) & (10**lmass_loc >= 10**m_lo[jm]) & (10**lmass_loc < 10**m_hi[jm]) )\n",
    "        else:\n",
    "            ind_mz_loc = np.where((z_peak_loc >= z_lo[iz]) & (z_peak_loc < z_hi[iz]) & (lmass_loc >= m_lo[jm]) & (lmass_loc < m_hi[jm]) )\n",
    "        ntgal = np.size(ind_mz_loc)\n",
    "        f = open(path_5_pop+file_list, 'w')\n",
    "        if ntgal > 0:\n",
    "            for kp5 in np.nditer(ind_mz_loc):\n",
    "                f.write(\",\".join([str(ra_loc[kp5]),str(dec_loc[kp5])]) + '\\n')\n",
    "        else:\n",
    "            print 'no sources in '+file_list\n",
    "        f.close()\n",
    "    "
   ]
  },
  {
   "cell_type": "code",
   "execution_count": null,
   "metadata": {
    "collapsed": true
   },
   "outputs": [],
   "source": []
  }
 ],
 "metadata": {
  "kernelspec": {
   "display_name": "Python 2",
   "language": "python",
   "name": "python2"
  },
  "language_info": {
   "codemirror_mode": {
    "name": "ipython",
    "version": 2
   },
   "file_extension": ".py",
   "mimetype": "text/x-python",
   "name": "python",
   "nbconvert_exporter": "python",
   "pygments_lexer": "ipython2",
   "version": "2.7.11"
  }
 },
 "nbformat": 4,
 "nbformat_minor": 0
}
