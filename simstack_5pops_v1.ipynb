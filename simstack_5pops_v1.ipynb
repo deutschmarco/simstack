{
 "cells": [
  {
   "cell_type": "code",
   "execution_count": 1,
   "metadata": {
    "collapsed": false
   },
   "outputs": [],
   "source": [
    "import pdb\n",
    "import numpy as np\n",
    "from astropy.wcs import WCS\n",
    "from shift import shift_twod\n",
    "from VieroLibrary.dist_idl import dist_idl\n",
    "from VieroLibrary import readcol\n",
    "from lmfit import Parameters, minimize, fit_report\n",
    "from smoothmap import smoothmap\n",
    "from astropy.io import fits\n",
    "#from fluctfit import simmap_from_cat_five_pops\n",
    "#from fluctfit import simmap_from_cat_general\n",
    "from gauss_kern import gauss_kern\n",
    "#import pylab as pl\n",
    "import matplotlib.pyplot as plt\n",
    "import math\n",
    "import pylab\n",
    "from grab_random import grab_random\n",
    "import pylab as plt\n",
    "from viero_quick_stack import viero_quick_stack\n",
    "\n",
    "%matplotlib inline  "
   ]
  },
  {
   "cell_type": "code",
   "execution_count": 2,
   "metadata": {
    "collapsed": false
   },
   "outputs": [],
   "source": [
    "z_lo = np.array([0.0,0.5,1.0,1.5,2.0,2.5,3.0,3.5])\n",
    "z_hi = np.array([0.5,1.0,1.5,2.0,2.5,3.0,3.5,4.0])\n",
    "\n",
    "m_lo = np.array([8.5, 9.5,10.0,10.5,11.0])\n",
    "m_hi = np.array([9.5,10.0,10.5,11.0,13.0])"
   ]
  },
  {
   "cell_type": "code",
   "execution_count": 3,
   "metadata": {
    "collapsed": false
   },
   "outputs": [],
   "source": [
    "path_map = '/data/maps_cats_models/maps/herschel/hermes/cosmos/'\n",
    "#file_map = 'cosmos_nest_naive_itermap_4.0_arcsec_pixels'+mapname+'.fits'\n",
    "#file_mapf = 'cosmos-cropped-uvista-hipe12_itermap_10_iterations_4.0_arcsec_pixels'+mapname+'_flux.fits'\n",
    "#file_mapn = 'cosmos-cropped-uvista-hipe12_itermap_10_iterations_4.0_arcsec_pixels'+mapname+'_noise.fits'\n"
   ]
  },
  {
   "cell_type": "code",
   "execution_count": 4,
   "metadata": {
    "collapsed": false
   },
   "outputs": [],
   "source": [
    "mapname=['_PSW','_PMW','_PLW']\n",
    "wavelength=[250,350,500]\n",
    "nwv = len(mapname)\n",
    "fwhm =[18.1]#, 25.2, 36.6]\n",
    "efwhm=[17.6]#, 23.9, 35.2] # want to the measured effective FWHM later\n",
    "map_files=[]\n",
    "noise_files=[]\n",
    "fmf='cosmos-cropped-uvista-hipe12_itermap_10_iterations_4.0_arcsec_pixels'\n",
    "for m in mapname: map_files.append(path_map + fmf + m + '_flux.fits')\n",
    "for m in mapname: noise_files.append(path_map+ fmf + m + '_noise.fits')"
   ]
  },
  {
   "cell_type": "code",
   "execution_count": 5,
   "metadata": {
    "collapsed": false
   },
   "outputs": [],
   "source": [
    "z_lo = np.array([1.0])\n",
    "z_hi = np.array([1.5])\n",
    "z_mid = (z_lo+z_hi)/2.0\n",
    "nz = len(z_mid)\n",
    "\n",
    "m_mid = (m_lo+m_hi)/2.0\n",
    "nm = len(m_mid)"
   ]
  },
  {
   "cell_type": "code",
   "execution_count": 6,
   "metadata": {
    "collapsed": false
   },
   "outputs": [
    {
     "name": "stderr",
     "output_type": "stream",
     "text": [
      "WARNING: AstropyDeprecationWarning: Config parameter 'enabled_record_valued_keyword_cards' in section [io.fits] of the file '/Users/marco/.astropy/config/astropy.cfg' is deprecated. Use 'enable_record_valued_keyword_cards' in section [io.fits] instead. [astropy.config.configuration]\n",
      "WARNING:astropy:AstropyDeprecationWarning: Config parameter 'enabled_record_valued_keyword_cards' in section [io.fits] of the file '/Users/marco/.astropy/config/astropy.cfg' is deprecated. Use 'enable_record_valued_keyword_cards' in section [io.fits] instead.\n"
     ]
    },
    {
     "data": {
      "image/png": "[encoded data removed]",
      "text/plain": [
       "<matplotlib.figure.Figure at 0x103fd2750>"
      ]
     },
     "metadata": {},
     "output_type": "display_data"
    }
   ],
   "source": [
    "npop=3\n",
    "all_stacked_fluxes = np.zeros([nwv,nz,nm*npop])\n",
    "\n",
    "path_5_pop = '/data/maps_cats_models/catalogs/multi_pop_lists/5pops/'\n",
    "for iz in range(nz):\n",
    "    #Stack one z at a time\n",
    "\n",
    "    list_names=[]\n",
    "    z_suf = \"\"+\"-\".join([str(z_lo[iz]),str(z_hi[iz])])\n",
    "    for jm in range(nm):\n",
    "        m_suf = \"\"+\"-\".join([str(m_lo[jm]),str(m_hi[jm])])\n",
    "\n",
    "        file_list ='list_5pop_z-'+z_suf+'_m-'+m_suf+'_sf.csv'\n",
    "        list_names.append(path_5_pop+file_list)\n",
    "        file_list ='list_5pop_z-'+z_suf+'_m-'+m_suf+'_qt.csv'\n",
    "        list_names.append(path_5_pop+file_list)\n",
    "        file_list ='list_5pop_z-'+z_suf+'_m-'+m_suf+'_agn.csv'\n",
    "        list_names.append(path_5_pop+file_list)\n",
    "        #file_list ='list_5pop_z-'+z_suf+'_m-'+m_suf+'_sb.csv'\n",
    "        #list_names.append(path_5_pop+file_list)\n",
    "        #file_list ='list_5pop_z-'+z_suf+'_m-'+m_suf+'_loc.csv'\n",
    "        #list_names.append(path_5_pop+file_list)\n",
    "    stacked_fluxes =  None\n",
    "    n_sources_max = None\n",
    "    #print np.size(map_files)\n",
    "    #print np.size(noise_files)\n",
    "    #print np.size(list_names)\n",
    "    #nlists =  len(list_names)\n",
    "    #ra, dec = readcol.readcol(list_names[0],fsep=',',twod=False)\n",
    "    stacked_fluxes = viero_quick_stack(\n",
    "        map_files,\n",
    "        list_names,\n",
    "        noise_files)\n",
    "    #all_stacked_fluxes[:,iz,:] = stacked_fluxes#[:,j] \n",
    "    #print stacked_fluxes\n",
    "    plt.ylim([-1e-1,3e0])\n",
    "    plt.ylim([1e-1,9e1])\n",
    "    plt.xlim([240,510])\n",
    "    plt.yscale('log')\n",
    "    for j in range(nm): \n",
    "        all_stacked_fluxes[:,iz,npop*j] = stacked_fluxes[:,npop*j]\n",
    "        all_stacked_fluxes[:,iz,npop*j+1] = stacked_fluxes[:,npop*j+1]\n",
    "        all_stacked_fluxes[:,iz,npop*j+2] = stacked_fluxes[:,npop*j+2]\n",
    "        \n",
    "        plt.plot(wavelength,1e3*stacked_fluxes[:,npop*j],color='b')\n",
    "        plt.plot(wavelength,1e3*stacked_fluxes[:,npop*j+1],'-',color='r')\n",
    "        plt.plot(wavelength,1e3*stacked_fluxes[:,npop*j+2],'-',color='g')\n",
    "        #plt.plot(wavelength,1e3*stacked_fluxes[:,npop*j+3],'--',color='b')\n",
    "        #plt.plot(wavelength,1e3*stacked_fluxes[:,npop*j+4],'--',color='g')\n",
    "        #pdb.set_trace()\n",
    "    plt.show()\n",
    "    #pdb.set_trace()"
   ]
  },
  {
   "cell_type": "code",
   "execution_count": null,
   "metadata": {
    "collapsed": false
   },
   "outputs": [],
   "source": [
    "#Multiplot with SED fits?"
   ]
  },
  {
   "cell_type": "code",
   "execution_count": null,
   "metadata": {
    "collapsed": false
   },
   "outputs": [],
   "source": []
  },
  {
   "cell_type": "code",
   "execution_count": null,
   "metadata": {
    "collapsed": true
   },
   "outputs": [],
   "source": []
  }
 ],
 "metadata": {
  "kernelspec": {
   "display_name": "Python 2",
   "language": "python",
   "name": "python2"
  },
  "language_info": {
   "codemirror_mode": {
    "name": "ipython",
    "version": 2
   },
   "file_extension": ".py",
   "mimetype": "text/x-python",
   "name": "python",
   "nbconvert_exporter": "python",
   "pygments_lexer": "ipython2",
   "version": "2.7.11"
  }
 },
 "nbformat": 4,
 "nbformat_minor": 0
}
